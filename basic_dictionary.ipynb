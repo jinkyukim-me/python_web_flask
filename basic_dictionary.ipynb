{
 "cells": [
  {
   "cell_type": "code",
   "execution_count": 1,
   "metadata": {
    "ExecuteTime": {
     "end_time": "2019-11-03T21:58:37.182772Z",
     "start_time": "2019-11-03T21:58:37.176789Z"
    }
   },
   "outputs": [],
   "source": [
    "dic = {'name':'pey', 'phone':'0119993323', 'birth': '1118'}"
   ]
  },
  {
   "cell_type": "code",
   "execution_count": 4,
   "metadata": {
    "ExecuteTime": {
     "end_time": "2019-11-03T21:59:16.369915Z",
     "start_time": "2019-11-03T21:59:16.363928Z"
    }
   },
   "outputs": [
    {
     "data": {
      "text/plain": [
       "'pey'"
      ]
     },
     "execution_count": 4,
     "metadata": {},
     "output_type": "execute_result"
    }
   ],
   "source": [
    "# key를 사용해서 value를 얻을 수 있음\n",
    "dic['name']"
   ]
  },
  {
   "cell_type": "code",
   "execution_count": 6,
   "metadata": {
    "ExecuteTime": {
     "end_time": "2019-11-03T22:00:11.115457Z",
     "start_time": "2019-11-03T22:00:11.111467Z"
    }
   },
   "outputs": [],
   "source": [
    "# dictionay 쌍 추가\n",
    "dic['email'] = '500_error@gmail.com'"
   ]
  },
  {
   "cell_type": "code",
   "execution_count": 7,
   "metadata": {
    "ExecuteTime": {
     "end_time": "2019-11-03T22:00:14.670903Z",
     "start_time": "2019-11-03T22:00:14.664928Z"
    }
   },
   "outputs": [
    {
     "data": {
      "text/plain": [
       "{'name': 'pey',\n",
       " 'phone': '0119993323',\n",
       " 'birth': '1118',\n",
       " 'email': '500_error@gmail.com'}"
      ]
     },
     "execution_count": 7,
     "metadata": {},
     "output_type": "execute_result"
    }
   ],
   "source": [
    "dic"
   ]
  },
  {
   "cell_type": "markdown",
   "metadata": {},
   "source": [
    "### 딕셔너리 만들 때 주의할 사항\n",
    "\n",
    "먼저 딕셔너리에서 Key는 고유한 값이므로 중복되는 Key 값을 설정해 놓으면 하나를 제외한 나머지 것들이 모두 무시된다는 점을 주의해야 함 \n",
    "\n",
    "다음 예에서 볼 수 있듯이 `동일한 Key가 2개 존재할 경우` 1:'a' 쌍이 무시됨\n",
    "\n",
    "        >>> a = {1:'a', 1:'b'}\n",
    "        >>> a\n",
    "        {1: 'b'}\n",
    "\n",
    "이렇게 Key가 중복되었을 때 1개를 제외한 나머지 Key:Value 값이 모두 무시되는 이유는 Key를 통해서 Value를 얻는 딕셔너리의 특징에서 알 수 있음 \n",
    "\n",
    "즉 동일한 Key가 존재하면 어떤 Key에 해당하는 Value를 불러야 할지 알 수 없기 때문\n",
    "\n",
    "또 한 가지 주의해야 할 사항은 `Key에 리스트는 쓸 수 없다`는 점 / 하지만 `튜플은 Key로 쓸 수 있음` \n",
    "\n",
    "딕셔너리의 Key로 쓸 수 있느냐 없느냐는 `Key가 변하는 값인지 변하지 않는 값인지`에 달려 있음 \n",
    "\n",
    "리스트는 그 값이 변할 수 있기 때문에 Key로 쓸 수 없음 \n",
    "\n",
    "다음 예처럼 리스트를 Key로 설정하면 리스트를 키 값으로 사용할 수 없다는 오류가 발생\n",
    "\n",
    "        >>> a = {[1,2] : 'hi'}\n",
    "        Traceback (most recent call last):\n",
    "          File \"<stdin>\", line 1, in <module>\n",
    "TypeError: unhashable type: 'list'\n",
    "\n",
    "따라서 딕셔너리의 Key 값으로 딕셔너리를 사용할 수 없음은 당연함 \n",
    "\n",
    "단 Value에는 변하는 값이든 변하지 않는 값이든 상관없이 아무 값이나 넣을 수 있음"
   ]
  },
  {
   "cell_type": "markdown",
   "metadata": {
    "ExecuteTime": {
     "end_time": "2019-11-03T22:08:21.420595Z",
     "start_time": "2019-11-03T22:08:21.416606Z"
    }
   },
   "source": [
    "#### Key 리스트 만들기(keys)"
   ]
  },
  {
   "cell_type": "code",
   "execution_count": 10,
   "metadata": {
    "ExecuteTime": {
     "end_time": "2019-11-03T22:10:02.954937Z",
     "start_time": "2019-11-03T22:10:02.948954Z"
    }
   },
   "outputs": [
    {
     "data": {
      "text/plain": [
       "dict_keys(['name', 'phone', 'birth'])"
      ]
     },
     "execution_count": 10,
     "metadata": {},
     "output_type": "execute_result"
    }
   ],
   "source": [
    "a = {'name': 'pey', 'phone': '0119993323', 'birth': '1118'}\n",
    "a.keys()"
   ]
  },
  {
   "cell_type": "markdown",
   "metadata": {},
   "source": [
    "#### Value 리스트 만들기(values)"
   ]
  },
  {
   "cell_type": "code",
   "execution_count": 11,
   "metadata": {
    "ExecuteTime": {
     "end_time": "2019-11-03T22:10:11.269797Z",
     "start_time": "2019-11-03T22:10:11.263821Z"
    }
   },
   "outputs": [
    {
     "data": {
      "text/plain": [
       "dict_values(['pey', '0119993323', '1118'])"
      ]
     },
     "execution_count": 11,
     "metadata": {},
     "output_type": "execute_result"
    }
   ],
   "source": [
    "a.values()"
   ]
  },
  {
   "cell_type": "markdown",
   "metadata": {},
   "source": [
    "#### Key, Value 쌍 얻기(items)"
   ]
  },
  {
   "cell_type": "code",
   "execution_count": 12,
   "metadata": {
    "ExecuteTime": {
     "end_time": "2019-11-03T22:10:33.278380Z",
     "start_time": "2019-11-03T22:10:33.272399Z"
    }
   },
   "outputs": [
    {
     "data": {
      "text/plain": [
       "dict_items([('name', 'pey'), ('phone', '0119993323'), ('birth', '1118')])"
      ]
     },
     "execution_count": 12,
     "metadata": {},
     "output_type": "execute_result"
    }
   ],
   "source": [
    "a.items()"
   ]
  },
  {
   "cell_type": "markdown",
   "metadata": {},
   "source": [
    "#### Key: Value 쌍 모두 지우기(clear)"
   ]
  },
  {
   "cell_type": "code",
   "execution_count": 13,
   "metadata": {
    "ExecuteTime": {
     "end_time": "2019-11-03T22:11:02.320139Z",
     "start_time": "2019-11-03T22:11:02.316152Z"
    }
   },
   "outputs": [],
   "source": [
    "a.clear()"
   ]
  },
  {
   "cell_type": "code",
   "execution_count": 14,
   "metadata": {
    "ExecuteTime": {
     "end_time": "2019-11-03T22:11:04.452475Z",
     "start_time": "2019-11-03T22:11:04.447447Z"
    }
   },
   "outputs": [
    {
     "data": {
      "text/plain": [
       "{}"
      ]
     },
     "execution_count": 14,
     "metadata": {},
     "output_type": "execute_result"
    }
   ],
   "source": [
    "a"
   ]
  },
  {
   "cell_type": "markdown",
   "metadata": {},
   "source": [
    "#### Key로 Value얻기(get)"
   ]
  },
  {
   "cell_type": "code",
   "execution_count": 15,
   "metadata": {
    "ExecuteTime": {
     "end_time": "2019-11-03T22:11:36.793184Z",
     "start_time": "2019-11-03T22:11:36.786208Z"
    }
   },
   "outputs": [
    {
     "data": {
      "text/plain": [
       "'pey'"
      ]
     },
     "execution_count": 15,
     "metadata": {},
     "output_type": "execute_result"
    }
   ],
   "source": [
    "a = {'name':'pey', 'phone':'0119993323', 'birth': '1118'}\n",
    "a.get('name')"
   ]
  },
  {
   "cell_type": "code",
   "execution_count": 16,
   "metadata": {
    "ExecuteTime": {
     "end_time": "2019-11-03T22:11:49.935019Z",
     "start_time": "2019-11-03T22:11:49.929037Z"
    }
   },
   "outputs": [
    {
     "data": {
      "text/plain": [
       "'1118'"
      ]
     },
     "execution_count": 16,
     "metadata": {},
     "output_type": "execute_result"
    }
   ],
   "source": [
    "a.get('birth')"
   ]
  },
  {
   "cell_type": "code",
   "execution_count": 18,
   "metadata": {
    "ExecuteTime": {
     "end_time": "2019-11-03T22:12:56.970856Z",
     "start_time": "2019-11-03T22:12:56.964849Z"
    }
   },
   "outputs": [
    {
     "name": "stdout",
     "output_type": "stream",
     "text": [
      "None\n"
     ]
    }
   ],
   "source": [
    "print(a.get('happy'))"
   ]
  },
  {
   "cell_type": "markdown",
   "metadata": {},
   "source": [
    "### 딕셔너리 안에 찾으려는 `Key 값이 없을 경우` 미리 정해 둔 `디폴트 값`을 대신 가져오게 하고 싶을 때에는 `get(x, '디폴트 값')`을 사용하면 편리"
   ]
  },
  {
   "cell_type": "code",
   "execution_count": 19,
   "metadata": {
    "ExecuteTime": {
     "end_time": "2019-11-03T22:14:07.862134Z",
     "start_time": "2019-11-03T22:14:07.857148Z"
    }
   },
   "outputs": [
    {
     "data": {
      "text/plain": [
       "'faith'"
      ]
     },
     "execution_count": 19,
     "metadata": {},
     "output_type": "execute_result"
    }
   ],
   "source": [
    "a.get('happy','faith')"
   ]
  },
  {
   "cell_type": "markdown",
   "metadata": {},
   "source": [
    "#### 해당 Key가 딕셔너리 안에 있는지 조사하기(in)"
   ]
  },
  {
   "cell_type": "code",
   "execution_count": 21,
   "metadata": {
    "ExecuteTime": {
     "end_time": "2019-11-03T22:14:37.649392Z",
     "start_time": "2019-11-03T22:14:37.643378Z"
    }
   },
   "outputs": [
    {
     "data": {
      "text/plain": [
       "True"
      ]
     },
     "execution_count": 21,
     "metadata": {},
     "output_type": "execute_result"
    }
   ],
   "source": [
    "a = {'name':'pey', 'phone':'0119993323', 'birth': '1118'}\n",
    "'name' in a"
   ]
  },
  {
   "cell_type": "code",
   "execution_count": 22,
   "metadata": {
    "ExecuteTime": {
     "end_time": "2019-11-03T22:14:48.570161Z",
     "start_time": "2019-11-03T22:14:48.565174Z"
    }
   },
   "outputs": [
    {
     "data": {
      "text/plain": [
       "False"
      ]
     },
     "execution_count": 22,
     "metadata": {},
     "output_type": "execute_result"
    }
   ],
   "source": [
    "'email' in a"
   ]
  },
  {
   "cell_type": "markdown",
   "metadata": {},
   "source": [
    "#### items()를 활용해서 키, 값을 반복해서 새로운 리스트로 만들기"
   ]
  },
  {
   "cell_type": "code",
   "execution_count": 24,
   "metadata": {
    "ExecuteTime": {
     "end_time": "2019-11-03T22:15:43.535164Z",
     "start_time": "2019-11-03T22:15:43.529179Z"
    }
   },
   "outputs": [
    {
     "name": "stdout",
     "output_type": "stream",
     "text": [
      "name pey\n",
      "phone 0119993323\n",
      "birth 1118\n"
     ]
    }
   ],
   "source": [
    "for x,y in a.items():\n",
    "    print(x,y)"
   ]
  },
  {
   "cell_type": "code",
   "execution_count": 25,
   "metadata": {
    "ExecuteTime": {
     "end_time": "2019-11-03T22:18:38.954757Z",
     "start_time": "2019-11-03T22:18:38.949774Z"
    }
   },
   "outputs": [],
   "source": [
    "new_list = [\"{}: {}\".format(key, value) for key, value in sorted(a.items())]"
   ]
  },
  {
   "cell_type": "code",
   "execution_count": 26,
   "metadata": {
    "ExecuteTime": {
     "end_time": "2019-11-03T22:18:42.093384Z",
     "start_time": "2019-11-03T22:18:42.089370Z"
    }
   },
   "outputs": [
    {
     "data": {
      "text/plain": [
       "['birth: 1118', 'name: pey', 'phone: 0119993323']"
      ]
     },
     "execution_count": 26,
     "metadata": {},
     "output_type": "execute_result"
    }
   ],
   "source": [
    "new_list"
   ]
  },
  {
   "cell_type": "code",
   "execution_count": 27,
   "metadata": {
    "ExecuteTime": {
     "end_time": "2019-11-03T22:19:17.092738Z",
     "start_time": "2019-11-03T22:19:17.086723Z"
    }
   },
   "outputs": [
    {
     "data": {
      "text/plain": [
       "'birth: 1118'"
      ]
     },
     "execution_count": 27,
     "metadata": {},
     "output_type": "execute_result"
    }
   ],
   "source": [
    "new_list[0]"
   ]
  },
  {
   "cell_type": "code",
   "execution_count": null,
   "metadata": {},
   "outputs": [],
   "source": []
  }
 ],
 "metadata": {
  "hide_input": false,
  "kernelspec": {
   "display_name": "Python 3",
   "language": "python",
   "name": "python3"
  },
  "language_info": {
   "codemirror_mode": {
    "name": "ipython",
    "version": 3
   },
   "file_extension": ".py",
   "mimetype": "text/x-python",
   "name": "python",
   "nbconvert_exporter": "python",
   "pygments_lexer": "ipython3",
   "version": "3.6.9"
  }
 },
 "nbformat": 4,
 "nbformat_minor": 2
}
