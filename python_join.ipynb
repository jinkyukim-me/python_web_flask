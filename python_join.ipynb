{
 "cells": [
  {
   "cell_type": "markdown",
   "metadata": {},
   "source": [
    "### 서로 변환이 가능함\n",
    "list = str.split() : 문자열 => 리스트, 공백시 스페이스 기준\n",
    "\n",
    "” “.join( list ) : 리스트에서 문자열으로"
   ]
  },
  {
   "cell_type": "code",
   "execution_count": 1,
   "metadata": {
    "ExecuteTime": {
     "end_time": "2019-11-03T23:01:15.897262Z",
     "start_time": "2019-11-03T23:01:15.893272Z"
    }
   },
   "outputs": [],
   "source": [
    "time_str = \"10:34:17\""
   ]
  },
  {
   "cell_type": "code",
   "execution_count": 2,
   "metadata": {
    "ExecuteTime": {
     "end_time": "2019-11-03T23:01:33.103250Z",
     "start_time": "2019-11-03T23:01:33.092280Z"
    }
   },
   "outputs": [
    {
     "data": {
      "text/plain": [
       "['10', '34', '17']"
      ]
     },
     "execution_count": 2,
     "metadata": {},
     "output_type": "execute_result"
    }
   ],
   "source": [
    "time_str.split(':')"
   ]
  },
  {
   "cell_type": "code",
   "execution_count": 3,
   "metadata": {
    "ExecuteTime": {
     "end_time": "2019-11-03T23:01:58.854313Z",
     "start_time": "2019-11-03T23:01:58.850323Z"
    }
   },
   "outputs": [],
   "source": [
    "time_list = ['10','34','17']"
   ]
  },
  {
   "cell_type": "code",
   "execution_count": 4,
   "metadata": {
    "ExecuteTime": {
     "end_time": "2019-11-03T23:02:12.614493Z",
     "start_time": "2019-11-03T23:02:12.608507Z"
    }
   },
   "outputs": [
    {
     "data": {
      "text/plain": [
       "'10:34:17'"
      ]
     },
     "execution_count": 4,
     "metadata": {},
     "output_type": "execute_result"
    }
   ],
   "source": [
    "':'.join(time_list)"
   ]
  },
  {
   "cell_type": "code",
   "execution_count": null,
   "metadata": {},
   "outputs": [],
   "source": []
  }
 ],
 "metadata": {
  "hide_input": false,
  "kernelspec": {
   "display_name": "Python 3",
   "language": "python",
   "name": "python3"
  },
  "language_info": {
   "codemirror_mode": {
    "name": "ipython",
    "version": 3
   },
   "file_extension": ".py",
   "mimetype": "text/x-python",
   "name": "python",
   "nbconvert_exporter": "python",
   "pygments_lexer": "ipython3",
   "version": "3.6.9"
  }
 },
 "nbformat": 4,
 "nbformat_minor": 2
}
