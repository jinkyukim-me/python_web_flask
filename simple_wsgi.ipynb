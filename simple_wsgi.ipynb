{
 "cells": [
  {
   "cell_type": "markdown",
   "metadata": {},
   "source": [
    "`wsgiref.sim_server` 모듈로부터 `make_server` 함수를 가지고 옴"
   ]
  },
  {
   "cell_type": "code",
   "execution_count": 1,
   "metadata": {
    "ExecuteTime": {
     "end_time": "2019-11-03T21:39:36.353098Z",
     "start_time": "2019-11-03T21:39:35.694847Z"
    }
   },
   "outputs": [],
   "source": [
    "from wsgiref.simple_server import make_server"
   ]
  },
  {
   "cell_type": "markdown",
   "metadata": {},
   "source": [
    "01: wsgi 함수 헤더 작성, wsgi 함수는 CGI환경 변수를 담고 있는 `environ` 인자와 웹 브라우저에 응답을 반환하는 `start_response` 함수를 인자로 받음\n",
    "02~03: '키:값'의 문자열 형태로 CGI 환경 변수의 키와 값을 반복하여 파이썬 리스트로 만들어 reponse_body에 저장\n"
   ]
  },
  {
   "cell_type": "code",
   "execution_count": 2,
   "metadata": {
    "ExecuteTime": {
     "end_time": "2019-11-03T21:39:48.465687Z",
     "start_time": "2019-11-03T21:39:48.460701Z"
    }
   },
   "outputs": [],
   "source": [
    "def application(environ, start_response):\n",
    "    response_body = ['%s: %s' % (key, value)\n",
    "                     for key, value in sorted(environ.items())]\n",
    "    response_body = '\\n'.join(response_body)\n",
    "\n",
    "    status = '200 OK'\n",
    "    response_headers = [('Content-Type', 'text/plain'),\n",
    "                        ('Content-Length', str(len(response_body)))]\n",
    "    start_response(status, response_headers)\n",
    "\n",
    "    return [response_body.encode(\"utf8\")]"
   ]
  },
  {
   "cell_type": "code",
   "execution_count": 3,
   "metadata": {
    "ExecuteTime": {
     "end_time": "2019-11-03T21:41:48.377167Z",
     "start_time": "2019-11-03T21:40:04.097092Z"
    }
   },
   "outputs": [
    {
     "name": "stderr",
     "output_type": "stream",
     "text": [
      "127.0.0.1 - - [04/Nov/2019 06:41:48] \"GET / HTTP/1.1\" 200 6620\n"
     ]
    }
   ],
   "source": [
    "httpd = make_server(\n",
    "    'localhost',\n",
    "    8051,\n",
    "    application\n",
    ")\n",
    "\n",
    "httpd.handle_request()"
   ]
  },
  {
   "cell_type": "code",
   "execution_count": null,
   "metadata": {},
   "outputs": [],
   "source": []
  }
 ],
 "metadata": {
  "hide_input": false,
  "kernelspec": {
   "display_name": "Python 3",
   "language": "python",
   "name": "python3"
  },
  "language_info": {
   "codemirror_mode": {
    "name": "ipython",
    "version": 3
   },
   "file_extension": ".py",
   "mimetype": "text/x-python",
   "name": "python",
   "nbconvert_exporter": "python",
   "pygments_lexer": "ipython3",
   "version": "3.6.9"
  }
 },
 "nbformat": 4,
 "nbformat_minor": 2
}
